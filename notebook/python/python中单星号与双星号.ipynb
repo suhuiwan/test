{
 "cells": [
  {
   "cell_type": "markdown",
   "metadata": {},
   "source": [
    "\n",
    "\n",
    "## 运算符号\n",
    "\n",
    "* `*` 表示乘法\n",
    "* `**` 表示乘方\n",
    "\n",
    "## 函数形参\n",
    "* `*` 在python中做函数形参，表示的是一个可变长度的序列，类型为tuple，即将所有参数放入一个元组（tuple）中，被函数使用。\n",
    "* `**` 在python中做函数形参，表示的是一个可变长度的序列，类型为dict,即将所有的关键字参数，放入一个字典（dict）中， 被函数使用。\n",
    "* `*` 与 `**` 作为形参同时出现时，`**` 必须在最后面。\n"
   ]
  },
  {
   "cell_type": "code",
   "execution_count": 1,
   "metadata": {},
   "outputs": [
    {
     "name": "stdout",
     "output_type": "stream",
     "text": [
      "\n",
      "------形参测试------\n",
      "arg1=(1, 2), type:<class 'tuple'>\n",
      "arg2={'key1': 1, 'key2': 2}, type:<class 'dict'>\n"
     ]
    }
   ],
   "source": [
    "\n",
    "print('\\n------形参测试------')\n",
    "def printx(*arg1, **arg2):\n",
    "    print(\"arg1={0}, type:{1}\".format(arg1, type(arg1)))\n",
    "    print(\"arg2={0}, type:{1}\".format(arg2, type(arg2)))\n",
    " \n",
    "#调用\n",
    "P1 = printx(1,2, key1=1, key2=2)"
   ]
  },
  {
   "cell_type": "markdown",
   "metadata": {},
   "source": [
    "## 函数实参\n",
    "\n",
    "- 在`list`, `tuple`, `set`前加 `*`，会把序列中的所有元素解包成位置参数\n",
    "- 在 `dict` 前加 `*` ，会把`dict`的**键**变成位置参数；\n",
    "- 在 `dict` 前加`**`，把字典的键值对变成关键字参数。"
   ]
  },
  {
   "cell_type": "code",
   "execution_count": 3,
   "metadata": {},
   "outputs": [
    {
     "name": "stdout",
     "output_type": "stream",
     "text": [
      "\n",
      "------实参测试------\n",
      "arg1=(1, 2, 3, 'key1', 'key2'), type:<class 'tuple'>\n",
      "arg2={}, type:<class 'dict'>\n",
      "\n",
      "arg1=(1, 2, 3), type:<class 'tuple'>\n",
      "arg2={'key1': 1, 'key2': 2}, type:<class 'dict'>\n"
     ]
    }
   ],
   "source": [
    "def printx(*arg1, **arg2):\n",
    "    print(\"arg1={0}, type:{1}\".format(arg1, type(arg1)))\n",
    "    print(\"arg2={0}, type:{1}\".format(arg2, type(arg2)))\n",
    " \n",
    " \n",
    "#3.实参测试\n",
    "print('\\n------实参测试------')\n",
    "A = (1,2,3)\n",
    "K1 = {'key1':1, 'key2':2}\n",
    "P2 = printx(*A, *K1)  #注意在dict前加一个*,只把dict的 '键' 作为位置参传递\n",
    "print('')\n",
    "P3= printx(*A, **K1)"
   ]
  },
  {
   "cell_type": "markdown",
   "metadata": {},
   "source": [
    "## 作为序列解包\n",
    "\n",
    "注意序列解包时*解包为list，不再是tuple了\n",
    "\n",
    "1. 先对不带*的变量解包，剩余的数据在划分给带*的变量\n",
    "\n",
    "    x,y,*z = 1,2,3,4,5 #等同于 x=1, y = 2, z= [3,4,5]\n",
    "\n",
    "    X,*y,z = 1,2,3,4,5 #等同于 x=1, y = [2,3,4], z= 5\n",
    "\n",
    "2. 如果左值比右值要多，那么带 * 的变量默认为空列表\n",
    "\n",
    "    x,y,*z = 1,2 #等同于 x=1, y = 2, z= []  \n",
    "\n",
    "    x,*y,z = 1,2  #x=1, y = [], z= 2\n",
    "\n",
    "3. 单*只解包dict的键， **解包dict键值对\n",
    "\n",
    "    key_A = {'key1':1, 'key2':2}\n",
    "\n",
    "    key_B = {'key3' :3, 'key4':4}\n",
    "\n",
    "    X = {*key_A}  #等同于x= {'key1', 'key2'}\n",
    "\n",
    "    X = {**key_A}  #等同于x= {'key1':1, 'key2':2}\n",
    "\n",
    "    X = {**key_A, **key_B} #等同于组包，x={'key1':1, 'key2':2, 'key3' :3, 'key4':4} \n",
    "\n",
    "    注意：组包时，若键相同，则用后面的键值替换前面的，即最终合并后，为后面的键值对。"
   ]
  },
  {
   "cell_type": "code",
   "execution_count": 4,
   "metadata": {},
   "outputs": [
    {
     "name": "stdout",
     "output_type": "stream",
     "text": [
      "\n",
      "------解包测试------\n",
      "x=1, y= 2, z=[3, 4, 5]\n",
      "x=1, y= [2, 3, 4], z=5\n",
      "x=1, y= [], z=2\n",
      "x=1, y= 2, z=[]\n",
      "k4= {'key3': 3, 'key4': 4, 'key5': 5, 'key6': 6}\n"
     ]
    }
   ],
   "source": [
    "#4.解包测试\n",
    "print('\\n------解包测试------')\n",
    "x,y,*z = 1,2,3,4,5\n",
    "print(\"x={0}, y= {1}, z={2}\".format(x,y,z))\n",
    " \n",
    "x,*y,z = 1,2,3,4,5\n",
    "print(\"x={0}, y= {1}, z={2}\".format(x,y,z))\n",
    " \n",
    "x,*y,z = 1,2\n",
    "print(\"x={0}, y= {1}, z={2}\".format(x,y,z))\n",
    " \n",
    "x,y,*z = 1,2\n",
    "print(\"x={0}, y= {1}, z={2}\".format(x,y,z))\n",
    " \n",
    "#解包&组包\n",
    "K2 = {'key3':3, 'key4':4}\n",
    "K3 = {'key5':5, 'key6':6}\n",
    "k4 = {**K2, **K3}\n",
    "print(\"k4=\", k4)"
   ]
  },
  {
   "cell_type": "markdown",
   "metadata": {},
   "source": [
    "## 注意\n",
    "\n",
    "在Python中默认的函数参数顺序是：必选参数、默认参数、*args 和 **kwargs 。如下所示：\n",
    "\n",
    "``` python\n",
    "    def  testFunc(name, age=10, *agrs, **kwargs):\n",
    "        pass\n",
    "```"
   ]
  },
  {
   "cell_type": "code",
   "execution_count": 8,
   "metadata": {},
   "outputs": [
    {
     "name": "stdout",
     "output_type": "stream",
     "text": [
      "\n",
      "------运算符测试------\n",
      "a =  6\n",
      "b =  9\n",
      "\n",
      "------形参测试------\n",
      "arg1=(1, 2), type:<class 'tuple'>\n",
      "arg2={'key1': 1, 'key2': 2}, type:<class 'dict'>\n",
      "\n",
      "------实参测试------\n",
      "arg1=(1, 2, 3, 'key1', 'key2'), type:<class 'tuple'>\n",
      "arg2={}, type:<class 'dict'>\n",
      "\n",
      "arg1=(1, 2, 3), type:<class 'tuple'>\n",
      "arg2={'key1': 1, 'key2': 2}, type:<class 'dict'>\n",
      "\n",
      "------解包测试------\n",
      "x=1, y= 2, z=[3, 4, 5]\n",
      "x=1, y= [2, 3, 4], z=5\n",
      "x=1, y= [], z=2\n",
      "x=1, y= 2, z=[]\n",
      "k4= {'key3': 3, 'key4': 4, 'key5': 5, 'key6': 6}\n"
     ]
    }
   ],
   "source": [
    "import torch\n",
    " \n",
    "#1.* ** 作为运算符\n",
    "print('\\n------运算符测试------')\n",
    "a = 3*2  #乘法\n",
    "b = 3**2 #乘方\n",
    "print(\"a = \", a)  #输出6\n",
    "print(\"b = \", b)  #输出9\n",
    " \n",
    "#2.作为形参\n",
    "print('\\n------形参测试------')\n",
    "def printx(*arg1, **arg2):\n",
    "    print(\"arg1={0}, type:{1}\".format(arg1, type(arg1)))\n",
    "    print(\"arg2={0}, type:{1}\".format(arg2, type(arg2)))\n",
    " \n",
    "#调用\n",
    "P1 = printx(1,2, key1=1, key2=2)\n",
    " \n",
    "#3.实参测试\n",
    "print('\\n------实参测试------')\n",
    "A = (1,2,3)\n",
    "K1 = {'key1':1, 'key2':2}\n",
    "P2 = printx(*A, *K1)  #注意在dict前加一个*,只把dict的 '键' 作为位置参传递\n",
    "print('')\n",
    "P3= printx(*A, **K1)\n",
    " \n",
    "#4.解包测试\n",
    "print('\\n------解包测试------')\n",
    "x,y,*z = 1,2,3,4,5\n",
    "print(\"x={0}, y= {1}, z={2}\".format(x,y,z))\n",
    " \n",
    "x,*y,z = 1,2,3,4,5\n",
    "print(\"x={0}, y= {1}, z={2}\".format(x,y,z))\n",
    " \n",
    "x,*y,z = 1,2\n",
    "print(\"x={0}, y= {1}, z={2}\".format(x,y,z))\n",
    " \n",
    "x,y,*z = 1,2\n",
    "print(\"x={0}, y= {1}, z={2}\".format(x,y,z))\n",
    " \n",
    "#解包&组包\n",
    "K2 = {'key3':3, 'key4':4}\n",
    "K3 = {'key5':5, 'key6':6}\n",
    "k4 = {**K2, **K3}\n",
    "print(\"k4=\", k4)"
   ]
  },
  {
   "cell_type": "code",
   "execution_count": 9,
   "metadata": {},
   "outputs": [
    {
     "name": "stdout",
     "output_type": "stream",
     "text": [
      "[5]\n"
     ]
    }
   ],
   "source": [
    "a = [0]\n",
    "a = [5]\n",
    "def modify(a):\n",
    "    a = [7]\n",
    "\n",
    "modify(a)\n",
    "print(a)    "
   ]
  }
 ],
 "metadata": {
  "kernelspec": {
   "display_name": "yolov8",
   "language": "python",
   "name": "python3"
  },
  "language_info": {
   "codemirror_mode": {
    "name": "ipython",
    "version": 3
   },
   "file_extension": ".py",
   "mimetype": "text/x-python",
   "name": "python",
   "nbconvert_exporter": "python",
   "pygments_lexer": "ipython3",
   "version": "3.8.19"
  }
 },
 "nbformat": 4,
 "nbformat_minor": 2
}
